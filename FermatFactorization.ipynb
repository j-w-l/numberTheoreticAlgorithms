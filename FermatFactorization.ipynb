{
 "cells": [
  {
   "cell_type": "code",
   "execution_count": null,
   "metadata": {},
   "outputs": [],
   "source": [
    "# Fermat's Factorization Method.\n",
    "def fermatFactorization(n):\n",
    "    # Returns:\n",
    "    # --None, if neither odd nor a multiple of 4,\n",
    "    # --(x, y), s.t. n^2 = x^2 - y^2.\n",
    "    \n",
    "    if Mod(n, 2) != 1 and Mod(n, 4) != 0:\n",
    "        return None \n",
    "    x0 = ceil(sqrt(n))\n",
    "    while True:\n",
    "        diff = (x0)^2 - n\n",
    "        if is_square(diff):\n",
    "            return (x0, sqrt(diff))\n",
    "        x0 += 1\n",
    "        \n",
    "# Test suite.\n",
    "print(fermatFactorization(901))"
   ]
  }
 ],
 "metadata": {
  "kernelspec": {
   "display_name": "SageMath 9.2",
   "language": "sage",
   "name": "sagemath"
  },
  "language_info": {
   "codemirror_mode": {
    "name": "ipython",
    "version": 3
   },
   "file_extension": ".py",
   "mimetype": "text/x-python",
   "name": "python",
   "nbconvert_exporter": "python",
   "pygments_lexer": "ipython3",
   "version": "3.8.5"
  }
 },
 "nbformat": 4,
 "nbformat_minor": 4
}
