{
 "cells": [
  {
   "cell_type": "code",
   "execution_count": null,
   "metadata": {},
   "outputs": [],
   "source": [
    "# Basic Factorization Principle algorithm.\n",
    "def basicFactorizationPrinciple(x, y, n):\n",
    "    # Returns:\n",
    "    # --None, if x^2 \\neq y^2 or x = +\\-y (mod n),\n",
    "    # --gcd(x-y, n) - a nontrivial factor of n!\n",
    "    if Mod(x^2, n) != Mod(y^2, n):\n",
    "        print(\"Error: \" + str(x) + \"^2 isn't congruent to \" + str(y) + \"^2 (mod \" + str(n) + \").\")\n",
    "        return None\n",
    "    elif Mod(x, n) == Mod(y, n):\n",
    "        print(\"Error: \" + str(x) + \" is congruent to \" + str(y) + \" modulo\" + str(n) + \".\")\n",
    "        return None\n",
    "    elif Mod(x, n) == Mod(-y, n):\n",
    "        print(\"Error: \" + str(x) + \" is congruent to -\" + str(y) + \" modulo\" + str(n) + \".\")\n",
    "        return None\n",
    "    return gcd(x-y, n)\n",
    "\n",
    "# Test suite.\n",
    "x = (2*516107)\n",
    "y = 187722\n",
    "n = 642401\n",
    "print(basicFactorizationPrinciple(x, y, n))"
   ]
  }
 ],
 "metadata": {
  "kernelspec": {
   "display_name": "SageMath 9.2",
   "language": "sage",
   "name": "sagemath"
  },
  "language_info": {
   "codemirror_mode": {
    "name": "ipython",
    "version": 3
   },
   "file_extension": ".py",
   "mimetype": "text/x-python",
   "name": "python",
   "nbconvert_exporter": "python",
   "pygments_lexer": "ipython3",
   "version": "3.8.5"
  }
 },
 "nbformat": 4,
 "nbformat_minor": 4
}
