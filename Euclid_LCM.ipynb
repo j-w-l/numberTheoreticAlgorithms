{
 "cells": [
  {
   "cell_type": "code",
   "execution_count": 1,
   "metadata": {},
   "outputs": [],
   "source": [
    "# Euclid and LCM algorithms.\n",
    "\n",
    "def euclid(a, b):\n",
    "# Computes the gcd via the Euclidean algorithm.\n",
    "    if b == 0:\n",
    "        return a\n",
    "    return euclid(b, Mod(a, b))\n",
    "\n",
    "def pairwiseLCM(x, y):\n",
    "    return Integer(x*y) // Integer(euclid(x, y))\n",
    "\n",
    "def recursiveLCM(numbers):\n",
    "    if len(numbers) == 2:\n",
    "        return Integer(numbers[0] * numbers[1]) // Integer(euclid(numbers[0], numbers[1]))\n",
    "    return pairwiseLCM(numbers[0], recursiveLCM(numbers[1:]))"
   ]
  },
  {
   "cell_type": "code",
   "execution_count": null,
   "metadata": {},
   "outputs": [],
   "source": []
  }
 ],
 "metadata": {
  "kernelspec": {
   "display_name": "SageMath 9.2",
   "language": "sage",
   "name": "sagemath"
  },
  "language_info": {
   "codemirror_mode": {
    "name": "ipython",
    "version": 3
   },
   "file_extension": ".py",
   "mimetype": "text/x-python",
   "name": "python",
   "nbconvert_exporter": "python",
   "pygments_lexer": "ipython3",
   "version": "3.8.5"
  }
 },
 "nbformat": 4,
 "nbformat_minor": 4
}
