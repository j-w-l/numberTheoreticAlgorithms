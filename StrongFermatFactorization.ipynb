{
 "cells": [
  {
   "cell_type": "code",
   "execution_count": null,
   "metadata": {},
   "outputs": [],
   "source": [
    "# Strong Fermat factorization algorithm.\n",
    "def strongFermat(n, b=2):\n",
    "    # Returns:\n",
    "    # --None, if n is even (n must be odd to factor out powers of 2),\n",
    "    # --True/False\n",
    "    # Prints list of b_i values.\n",
    "    # Default is b=2 unless specified otherwise.\n",
    "    if Mod(n, 2) == 0:\n",
    "        print(\"Error: n must be ODD to use strong Fermat test.\")\n",
    "        return None\n",
    "    \n",
    "    # Extract k, s by factoring n-1 (where n-1 = 2^k * s)\n",
    "    k = 0\n",
    "    s = n-1\n",
    "    while gcd(s, 2) > 1:\n",
    "        k += 1\n",
    "        s = s/2\n",
    "    \n",
    "    betas = []\n",
    "    j = k # j is the SMALLEST index for which b_j = 1 (mod n)\n",
    "    # Store value of b_i for each iteration in betas\n",
    "    for i in range(k+1):\n",
    "        if i == 0:\n",
    "            betas.append(Mod(b^s, n)) # b_0 = b^s (mod n)\n",
    "        else:\n",
    "            betas.append(Mod( (betas[i-1])^2 , n )) # b_i = (b^{i-1})^2 (mod n)\n",
    "        if betas[i] == 1:\n",
    "            j = min(i, j)\n",
    "    print(\"*b values* \" + str(betas))\n",
    "\n",
    "    # Returns True if b_k = 1 (mod n) AND (j = 0 or b_{j-1} = -1 (mod n))\n",
    "    # Without feedback: return betas[k] == 1 and (j == 0 or betas[j-1] == -1)\n",
    "    if betas[k] != 1:\n",
    "        print(\"Failed: b_k equals \" + str(betas[k] + \" rather than 1 (mod n).\"))\n",
    "        return False\n",
    "    \n",
    "    if j == 0:\n",
    "        print(\"Passed: j is 0. (Note: j is smallest index for which b_j = 1 (mod n).)\")\n",
    "        return True\n",
    "    elif betas[j-1] == -1:\n",
    "        print(\"Passed: b_{j-1} equals -1. (Note: j is smallest index for which b_j = 1 (mod n).)\")\n",
    "        return True\n",
    "    else:\n",
    "        print(\"Failed: b_j equals 1 (mod n), BUT j \\neq 0 and b_{j-1} \\neq -1 (mod n).\")\n",
    "        return False\n",
    "    \n",
    "# Test suite.\n",
    "print(strongFermat(2047))"
   ]
  }
 ],
 "metadata": {
  "kernelspec": {
   "display_name": "SageMath 9.2",
   "language": "sage",
   "name": "sagemath"
  },
  "language_info": {
   "codemirror_mode": {
    "name": "ipython",
    "version": 3
   },
   "file_extension": ".py",
   "mimetype": "text/x-python",
   "name": "python",
   "nbconvert_exporter": "python",
   "pygments_lexer": "ipython3",
   "version": "3.8.5"
  }
 },
 "nbformat": 4,
 "nbformat_minor": 4
}
