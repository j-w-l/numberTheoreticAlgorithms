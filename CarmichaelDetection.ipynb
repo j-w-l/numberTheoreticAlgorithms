{
 "cells": [
  {
   "cell_type": "code",
   "execution_count": null,
   "metadata": {},
   "outputs": [],
   "source": [
    "# Algorithm to detect if n is a Carmichael number.\n",
    "def isCarmichael(n):\n",
    "# Must be squarefree, and (p-1)|(n-1) for all prime factors p (of n)\n",
    "    if n <= 2 or is_prime(n):\n",
    "        print(\"Error: n must be COMPOSITE, and greater than 2.\")\n",
    "        return False\n",
    "    primes = list(factor(n))\n",
    "    print(\"*Prime Factors* \" + str(primes))\n",
    "    # If not squarefree, return False.\n",
    "    # Verify if the weak Fermat test holds, mod each prime factor.\n",
    "    for each in primes:\n",
    "        if each[1] != 1 or Mod(n-1, each[0]-1) != 0:\n",
    "            return False\n",
    "    return True\n",
    "\n",
    "# Test suite.\n",
    "print(isCarmichael(1729))"
   ]
  }
 ],
 "metadata": {
  "kernelspec": {
   "display_name": "SageMath 9.2",
   "language": "sage",
   "name": "sagemath"
  },
  "language_info": {
   "codemirror_mode": {
    "name": "ipython",
    "version": 3
   },
   "file_extension": ".py",
   "mimetype": "text/x-python",
   "name": "python",
   "nbconvert_exporter": "python",
   "pygments_lexer": "ipython3",
   "version": "3.8.5"
  }
 },
 "nbformat": 4,
 "nbformat_minor": 4
}
