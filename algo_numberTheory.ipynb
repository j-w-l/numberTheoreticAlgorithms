{
 "cells": [
  {
   "cell_type": "code",
   "execution_count": 1,
   "metadata": {},
   "outputs": [
    {
     "name": "stdout",
     "output_type": "stream",
     "text": [
      "119\n"
     ]
    }
   ],
   "source": [
    "# Chinese Remainder Theorem.\n",
    "def chineseRemainderTheorem(arguments):    \n",
    "    \"\"\"Chinese Remainder Theorem.\n",
    "    Input is list of congruences (RHS a, modulo m). Returns solution mod m_1*m_2...m_n.\"\"\"\n",
    "    # Check if moduli are pairwise relatively prime.\n",
    "    for i in range(len(arguments)-1):\n",
    "        for j in range(i+1, len(arguments)):\n",
    "            if gcd(arguments[i][1], arguments[j][1]) != 1:\n",
    "                print(\"Moduli must be pairwise coprime.\")\n",
    "                return False\n",
    "    \n",
    "    # Compute intermediate values.\n",
    "    M = reduce(lambda x,y: x*y, [each[1] for each in arguments])\n",
    "    triplets = [] # [..,(a, b, c),..]\n",
    "    skip = 0\n",
    "    \n",
    "    for iterations in range(len(arguments)):\n",
    "        M_val = 1\n",
    "        for i in range(len(arguments)):\n",
    "            if i != skip:\n",
    "                M_val *= arguments[i][1]\n",
    "\n",
    "        triplets.append((arguments[skip][0], M_val, int(Integers(arguments[skip][1])(M_val)^-1)))\n",
    "        skip += 1\n",
    "        \n",
    "    return Mod(reduce(lambda x,y: x+y, [each[0]*each[1]*each[2] for each in triplets]), M)\n",
    "\n",
    "# Test suite.\n",
    "print(chineseRemainderTheorem([(1, 2), (2, 3), (4, 5), (0, 7)]))"
   ]
  },
  {
   "cell_type": "code",
   "execution_count": 2,
   "metadata": {},
   "outputs": [
    {
     "name": "stdout",
     "output_type": "stream",
     "text": [
      "(35, 18)\n"
     ]
    }
   ],
   "source": [
    "# Fermat's Factorization Method.\n",
    "def fermatFactorization(n):\n",
    "    # Returns:\n",
    "    # --None, if neither odd nor a multiple of 4,\n",
    "    # --(x, y), s.t. n^2 = x^2 - y^2.\n",
    "    \n",
    "    if Mod(n, 2) != 1 and Mod(n, 4) != 0:\n",
    "        return None \n",
    "    x0 = ceil(sqrt(n))\n",
    "    while True:\n",
    "        diff = (x0)^2 - n\n",
    "        if is_square(diff):\n",
    "            return (x0, sqrt(diff))\n",
    "        x0 += 1\n",
    "        \n",
    "# Test suite.\n",
    "print(fermatFactorization(901))"
   ]
  },
  {
   "cell_type": "code",
   "execution_count": 3,
   "metadata": {},
   "outputs": [
    {
     "name": "stdout",
     "output_type": "stream",
     "text": [
      "1129\n"
     ]
    }
   ],
   "source": [
    "# Basic Factorization Principle algorithm.\n",
    "def basicFactorizationPrinciple(x, y, n):\n",
    "    # Returns:\n",
    "    # --None, if x^2 \\neq y^2 or x = +\\-y (mod n),\n",
    "    # --gcd(x-y, n) - a nontrivial factor of n!\n",
    "    if Mod(x^2, n) != Mod(y^2, n):\n",
    "        print(\"Error: \" + str(x) + \"^2 isn't congruent to \" + str(y) + \"^2 (mod \" + str(n) + \").\")\n",
    "        return None\n",
    "    elif Mod(x, n) == Mod(y, n):\n",
    "        print(\"Error: \" + str(x) + \" is congruent to \" + str(y) + \" modulo\" + str(n) + \".\")\n",
    "        return None\n",
    "    elif Mod(x, n) == Mod(-y, n):\n",
    "        print(\"Error: \" + str(x) + \" is congruent to -\" + str(y) + \" modulo\" + str(n) + \".\")\n",
    "        return None\n",
    "    return gcd(x-y, n)\n",
    "\n",
    "# Test suite.\n",
    "x = (2*516107)\n",
    "y = 187722\n",
    "n = 642401\n",
    "print(basicFactorizationPrinciple(x, y, n))"
   ]
  },
  {
   "cell_type": "code",
   "execution_count": 4,
   "metadata": {},
   "outputs": [
    {
     "name": "stdout",
     "output_type": "stream",
     "text": [
      "*b values* [1, 1]\n",
      "Passed: j is 0. (Note: j is smallest index for which b_j = 1 (mod n).)\n",
      "True\n"
     ]
    }
   ],
   "source": [
    "# Strong Fermat factorization algorithm.\n",
    "def strongFermat(n, b=2):\n",
    "    # Returns:\n",
    "    # --None, if n is even (n must be odd to factor out powers of 2),\n",
    "    # --True/False\n",
    "    # Prints list of b_i values.\n",
    "    # Default is b=2 unless specified otherwise.\n",
    "    if Mod(n, 2) == 0:\n",
    "        print(\"Error: n must be ODD to use strong Fermat test.\")\n",
    "        return None\n",
    "    \n",
    "    # Extract k, s by factoring n-1 (where n-1 = 2^k * s)\n",
    "    k = 0\n",
    "    s = n-1\n",
    "    while gcd(s, 2) > 1:\n",
    "        k += 1\n",
    "        s = s/2\n",
    "    \n",
    "    betas = []\n",
    "    j = k # j is the SMALLEST index for which b_j = 1 (mod n)\n",
    "    # Store value of b_i for each iteration in betas\n",
    "    for i in range(k+1):\n",
    "        if i == 0:\n",
    "            betas.append(Mod(b^s, n)) # b_0 = b^s (mod n)\n",
    "        else:\n",
    "            betas.append(Mod( (betas[i-1])^2 , n )) # b_i = (b^{i-1})^2 (mod n)\n",
    "        if betas[i] == 1:\n",
    "            j = min(i, j)\n",
    "    print(\"*b values* \" + str(betas))\n",
    "\n",
    "    # Returns True if b_k = 1 (mod n) AND (j = 0 or b_{j-1} = -1 (mod n))\n",
    "    # Without feedback: return betas[k] == 1 and (j == 0 or betas[j-1] == -1)\n",
    "    if betas[k] != 1:\n",
    "        print(\"Failed: b_k equals \" + str(betas[k] + \" rather than 1 (mod n).\"))\n",
    "        return False\n",
    "    \n",
    "    if j == 0:\n",
    "        print(\"Passed: j is 0. (Note: j is smallest index for which b_j = 1 (mod n).)\")\n",
    "        return True\n",
    "    elif betas[j-1] == -1:\n",
    "        print(\"Passed: b_{j-1} equals -1. (Note: j is smallest index for which b_j = 1 (mod n).)\")\n",
    "        return True\n",
    "    else:\n",
    "        print(\"Failed: b_j equals 1 (mod n), BUT j \\neq 0 and b_{j-1} \\neq -1 (mod n).\")\n",
    "        return False\n",
    "    \n",
    "# Test suite.\n",
    "print(strongFermat(2047))"
   ]
  },
  {
   "cell_type": "code",
   "execution_count": 1,
   "metadata": {},
   "outputs": [],
   "source": [
    "# Algorithm to detect if n is a Carmichael number.\n",
    "def isCarmichael(n):\n",
    "# Must be squarefree, and (p-1)|(n-1) for all prime factors p (of n)\n",
    "    if n <= 2 or is_prime(n):\n",
    "        print(\"Error: n must be COMPOSITE, and greater than 2.\")\n",
    "        return False\n",
    "    primes = list(factor(n))\n",
    "    print(\"*Prime Factors* \" + str(primes))\n",
    "    # If not squarefree, return False.\n",
    "    # Verify if the weak Fermat test holds, mod each prime factor.\n",
    "    for each in primes:\n",
    "        if each[1] != 1 or Mod(n-1, each[0]-1) != 0:\n",
    "            return False\n",
    "    return True\n",
    "\n",
    "# Test suite.\n",
    "print(isCarmichael(1729))"
   ]
  },
  {
   "cell_type": "code",
   "execution_count": 5,
   "metadata": {},
   "outputs": [],
   "source": [
    "# Euclid and LCM algorithms.\n",
    "\n",
    "def euclid(a, b):\n",
    "# Computes the gcd via the Euclidean algorithm.\n",
    "    if b == 0:\n",
    "        return a\n",
    "    return euclid(b, Mod(a, b))\n",
    "\n",
    "def pairwiseLCM(x, y):\n",
    "    return Integer(x*y) // Integer(euclid(x, y))\n",
    "\n",
    "def recursiveLCM(numbers):\n",
    "    if len(numbers) == 2:\n",
    "        return Integer(numbers[0] * numbers[1]) // Integer(euclid(numbers[0], numbers[1]))\n",
    "    return pairwiseLCM(numbers[0], recursiveLCM(numbers[1:]))"
   ]
  },
  {
   "cell_type": "code",
   "execution_count": null,
   "metadata": {},
   "outputs": [],
   "source": []
  }
 ],
 "metadata": {
  "kernelspec": {
   "display_name": "SageMath 9.2",
   "language": "sage",
   "name": "sagemath"
  },
  "language_info": {
   "codemirror_mode": {
    "name": "ipython",
    "version": 3
   },
   "file_extension": ".py",
   "mimetype": "text/x-python",
   "name": "python",
   "nbconvert_exporter": "python",
   "pygments_lexer": "ipython3",
   "version": "3.8.5"
  }
 },
 "nbformat": 4,
 "nbformat_minor": 4
}
