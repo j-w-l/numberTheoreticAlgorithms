{
 "cells": [
  {
   "cell_type": "code",
   "execution_count": null,
   "metadata": {},
   "outputs": [],
   "source": [
    "# Chinese Remainder Theorem.\n",
    "def chineseRemainderTheorem(arguments):    \n",
    "    \"\"\"Chinese Remainder Theorem.\n",
    "    Input is list of congruences (RHS a, modulo m). Returns solution mod m_1*m_2...m_n.\"\"\"\n",
    "    # Check if moduli are pairwise relatively prime.\n",
    "    for i in range(len(arguments)-1):\n",
    "        for j in range(i+1, len(arguments)):\n",
    "            if gcd(arguments[i][1], arguments[j][1]) != 1:\n",
    "                print(\"Moduli must be pairwise coprime.\")\n",
    "                return False\n",
    "    \n",
    "    # Compute intermediate values.\n",
    "    M = reduce(lambda x,y: x*y, [each[1] for each in arguments])\n",
    "    triplets = [] # [..,(a, b, c),..]\n",
    "    skip = 0\n",
    "    \n",
    "    for iterations in range(len(arguments)):\n",
    "        M_val = 1\n",
    "        for i in range(len(arguments)):\n",
    "            if i != skip:\n",
    "                M_val *= arguments[i][1]\n",
    "\n",
    "        triplets.append((arguments[skip][0], M_val, int(Integers(arguments[skip][1])(M_val)^-1)))\n",
    "        skip += 1\n",
    "        \n",
    "    return Mod(reduce(lambda x,y: x+y, [each[0]*each[1]*each[2] for each in triplets]), M)\n",
    "\n",
    "# Test suite.\n",
    "print(chineseRemainderTheorem([(1, 2), (2, 3), (4, 5), (0, 7)]))"
   ]
  }
 ],
 "metadata": {
  "kernelspec": {
   "display_name": "SageMath 9.2",
   "language": "sage",
   "name": "sagemath"
  },
  "language_info": {
   "codemirror_mode": {
    "name": "ipython",
    "version": 3
   },
   "file_extension": ".py",
   "mimetype": "text/x-python",
   "name": "python",
   "nbconvert_exporter": "python",
   "pygments_lexer": "ipython3",
   "version": "3.8.5"
  }
 },
 "nbformat": 4,
 "nbformat_minor": 4
}
